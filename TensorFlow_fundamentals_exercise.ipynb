{
  "nbformat": 4,
  "nbformat_minor": 0,
  "metadata": {
    "colab": {
      "provenance": [],
      "authorship_tag": "ABX9TyNY6CEYkegffe5r3rVtmU65",
      "include_colab_link": true
    },
    "kernelspec": {
      "name": "python3",
      "display_name": "Python 3"
    },
    "language_info": {
      "name": "python"
    }
  },
  "cells": [
    {
      "cell_type": "markdown",
      "metadata": {
        "id": "view-in-github",
        "colab_type": "text"
      },
      "source": [
        "<a href=\"https://colab.research.google.com/github/SambhavDjain/Ml_Projects/blob/main/TensorFlow_fundamentals_exercise.ipynb\" target=\"_parent\"><img src=\"https://colab.research.google.com/assets/colab-badge.svg\" alt=\"Open In Colab\"/></a>"
      ]
    },
    {
      "cell_type": "code",
      "execution_count": 2,
      "metadata": {
        "id": "58Ib2-_O44KF"
      },
      "outputs": [],
      "source": [
        "import tensorflow as tf"
      ]
    },
    {
      "cell_type": "markdown",
      "source": [
        "#Every matrix is a tensor but not every tensors are  matrix"
      ],
      "metadata": {
        "id": "N3n-qOhJ9qn3"
      }
    },
    {
      "cell_type": "markdown",
      "source": [
        "#Rank of tensor means the no of dimensions"
      ],
      "metadata": {
        "id": "eaBU-HcbAEKF"
      }
    },
    {
      "cell_type": "code",
      "source": [
        "S = tf.constant(5)\n",
        "S\n",
        "tf.shape(S),tf.rank(S),tf.size(S)"
      ],
      "metadata": {
        "colab": {
          "base_uri": "https://localhost:8080/"
        },
        "id": "d3aUBGHY89Qx",
        "outputId": "bbb0c259-ea92-458e-e976-bcf3097cca2a"
      },
      "execution_count": 28,
      "outputs": [
        {
          "output_type": "execute_result",
          "data": {
            "text/plain": [
              "(<tf.Tensor: shape=(0,), dtype=int32, numpy=array([], dtype=int32)>,\n",
              " <tf.Tensor: shape=(), dtype=int32, numpy=0>,\n",
              " <tf.Tensor: shape=(), dtype=int32, numpy=1>)"
            ]
          },
          "metadata": {},
          "execution_count": 28
        }
      ]
    },
    {
      "cell_type": "code",
      "source": [
        "V = tf.constant([1,2,3,4,5])\n",
        "V\n",
        "V.ndim\n",
        "tf.shape(V),tf.rank(V),tf.size(V)"
      ],
      "metadata": {
        "colab": {
          "base_uri": "https://localhost:8080/"
        },
        "id": "YuIkFMo08ldA",
        "outputId": "5e2ead22-49dc-4cfe-c2d0-4d3e927ac5c5"
      },
      "execution_count": 30,
      "outputs": [
        {
          "output_type": "execute_result",
          "data": {
            "text/plain": [
              "(<tf.Tensor: shape=(1,), dtype=int32, numpy=array([5], dtype=int32)>,\n",
              " <tf.Tensor: shape=(), dtype=int32, numpy=1>,\n",
              " <tf.Tensor: shape=(), dtype=int32, numpy=5>)"
            ]
          },
          "metadata": {},
          "execution_count": 30
        }
      ]
    },
    {
      "cell_type": "code",
      "source": [
        "M = tf.constant([[1,3],[4,5],[6,7]])\n",
        "M\n",
        "tf.shape(M),tf.rank(M),tf.size(M)"
      ],
      "metadata": {
        "colab": {
          "base_uri": "https://localhost:8080/"
        },
        "id": "CXUCGRSU8wUg",
        "outputId": "480afcb2-fbb4-4152-ceda-b3ffffa9d3af"
      },
      "execution_count": 29,
      "outputs": [
        {
          "output_type": "execute_result",
          "data": {
            "text/plain": [
              "(<tf.Tensor: shape=(2,), dtype=int32, numpy=array([3, 2], dtype=int32)>,\n",
              " <tf.Tensor: shape=(), dtype=int32, numpy=2>,\n",
              " <tf.Tensor: shape=(), dtype=int32, numpy=6>)"
            ]
          },
          "metadata": {},
          "execution_count": 29
        }
      ]
    },
    {
      "cell_type": "code",
      "source": [
        "T = tf.constant([[[1,2],[3,5],[5,6]]])\n",
        "T\n",
        "tf.shape(T),tf.rank(T),tf.size(T)"
      ],
      "metadata": {
        "colab": {
          "base_uri": "https://localhost:8080/"
        },
        "id": "mvnZ2Cok9Rfe",
        "outputId": "ddaaa1e1-5a31-4b95-da61-a1ac78f9433f"
      },
      "execution_count": 19,
      "outputs": [
        {
          "output_type": "execute_result",
          "data": {
            "text/plain": [
              "<tf.Tensor: shape=(1, 3, 2), dtype=int32, numpy=\n",
              "array([[[1, 2],\n",
              "        [3, 5],\n",
              "        [5, 6]]], dtype=int32)>"
            ]
          },
          "metadata": {},
          "execution_count": 19
        }
      ]
    },
    {
      "cell_type": "code",
      "source": [
        "tensor1 = tf.random.uniform(shape=[5, 300])\n",
        "tensor2 = tf.random.uniform(shape=[5, 300])\n",
        "tensor1\n",
        "tensor2\n"
      ],
      "metadata": {
        "colab": {
          "base_uri": "https://localhost:8080/"
        },
        "id": "RklNMNNFAjzi",
        "outputId": "7b1bf8ac-3cfc-4439-809a-ae3ab7f4afff"
      },
      "execution_count": 47,
      "outputs": [
        {
          "output_type": "execute_result",
          "data": {
            "text/plain": [
              "<tf.Tensor: shape=(5, 300), dtype=float32, numpy=\n",
              "array([[0.5831698 , 0.2215004 , 0.23657954, ..., 0.5568533 , 0.8110198 ,\n",
              "        0.7171099 ],\n",
              "       [0.05928802, 0.26840377, 0.47587645, ..., 0.5289341 , 0.62610257,\n",
              "        0.69821036],\n",
              "       [0.3402146 , 0.14764023, 0.95250213, ..., 0.44892168, 0.21191919,\n",
              "        0.8835138 ],\n",
              "       [0.2425617 , 0.11993206, 0.23601592, ..., 0.99891996, 0.7786603 ,\n",
              "        0.12292767],\n",
              "       [0.92812943, 0.3816805 , 0.8607886 , ..., 0.3175894 , 0.872839  ,\n",
              "        0.6698694 ]], dtype=float32)>"
            ]
          },
          "metadata": {},
          "execution_count": 47
        }
      ]
    },
    {
      "cell_type": "code",
      "source": [
        "Matrix_mul = tf.matmul(tensor1 ,tf.transpose(tensor2))\n",
        "Matrix_mul"
      ],
      "metadata": {
        "colab": {
          "base_uri": "https://localhost:8080/"
        },
        "id": "ROITkmbhBFSR",
        "outputId": "4dd17c22-5209-4a3d-9c97-8ff56867a316"
      },
      "execution_count": 50,
      "outputs": [
        {
          "output_type": "execute_result",
          "data": {
            "text/plain": [
              "<tf.Tensor: shape=(5, 5), dtype=float32, numpy=\n",
              "array([[74.937805, 79.31862 , 72.33655 , 77.861496, 77.81325 ],\n",
              "       [72.83988 , 74.22507 , 70.1508  , 77.001945, 77.27977 ],\n",
              "       [74.181435, 74.53183 , 67.5733  , 75.97419 , 77.7177  ],\n",
              "       [75.21057 , 74.56216 , 72.45743 , 77.76497 , 76.82483 ],\n",
              "       [76.88472 , 78.35257 , 73.23671 , 81.3023  , 80.18059 ]],\n",
              "      dtype=float32)>"
            ]
          },
          "metadata": {},
          "execution_count": 50
        }
      ]
    },
    {
      "cell_type": "code",
      "source": [
        "Dot_pdt = tf.tensordot(tensor1,tensor2,axes=[[1],[1]])\n",
        "Dot_pdt"
      ],
      "metadata": {
        "colab": {
          "base_uri": "https://localhost:8080/"
        },
        "id": "Egadz_q0ChO3",
        "outputId": "3003a023-28f8-4758-dacf-e0d124c7d04d"
      },
      "execution_count": 66,
      "outputs": [
        {
          "output_type": "execute_result",
          "data": {
            "text/plain": [
              "<tf.Tensor: shape=(5, 5), dtype=float32, numpy=\n",
              "array([[70.39813 , 74.62955 , 73.75058 , 78.92976 , 75.06874 ],\n",
              "       [69.06598 , 72.72127 , 71.78369 , 73.295296, 72.05461 ],\n",
              "       [69.93716 , 70.73422 , 69.80247 , 74.26539 , 69.5395  ],\n",
              "       [75.323586, 78.18501 , 76.942474, 77.297356, 75.95474 ],\n",
              "       [71.97155 , 74.85087 , 70.52992 , 75.114044, 72.31033 ]],\n",
              "      dtype=float32)>"
            ]
          },
          "metadata": {},
          "execution_count": 66
        }
      ]
    },
    {
      "cell_type": "code",
      "source": [
        "Ran_tens = tf.random.uniform(shape= [224,224,3])\n",
        "Ran_tens"
      ],
      "metadata": {
        "colab": {
          "base_uri": "https://localhost:8080/"
        },
        "id": "Oqjs8NwNHYMW",
        "outputId": "93e6e7e3-1837-4fd2-91c1-1f2550396bde"
      },
      "execution_count": 70,
      "outputs": [
        {
          "output_type": "execute_result",
          "data": {
            "text/plain": [
              "<tf.Tensor: shape=(224, 224, 3), dtype=float32, numpy=\n",
              "array([[[0.04374456, 0.98272276, 0.6002557 ],\n",
              "        [0.38521123, 0.13945019, 0.6886053 ],\n",
              "        [0.85382235, 0.84953666, 0.5012145 ],\n",
              "        ...,\n",
              "        [0.37702143, 0.6958202 , 0.6380347 ],\n",
              "        [0.80712676, 0.53542197, 0.00483787],\n",
              "        [0.49300408, 0.44516826, 0.46199584]],\n",
              "\n",
              "       [[0.5295373 , 0.24433589, 0.18849647],\n",
              "        [0.8405175 , 0.38360786, 0.46415424],\n",
              "        [0.41191328, 0.08674765, 0.69899285],\n",
              "        ...,\n",
              "        [0.2020073 , 0.47837627, 0.92774296],\n",
              "        [0.1863327 , 0.80794585, 0.17051888],\n",
              "        [0.14130998, 0.06010962, 0.87057173]],\n",
              "\n",
              "       [[0.7566469 , 0.9061649 , 0.10365593],\n",
              "        [0.1801033 , 0.8383893 , 0.5631218 ],\n",
              "        [0.9914789 , 0.80316806, 0.6934719 ],\n",
              "        ...,\n",
              "        [0.5594959 , 0.4984603 , 0.34737504],\n",
              "        [0.18525887, 0.91724205, 0.92670894],\n",
              "        [0.7492353 , 0.60467434, 0.57448375]],\n",
              "\n",
              "       ...,\n",
              "\n",
              "       [[0.99979115, 0.7924899 , 0.05167353],\n",
              "        [0.53910375, 0.22682714, 0.29708493],\n",
              "        [0.9198762 , 0.0086875 , 0.12526119],\n",
              "        ...,\n",
              "        [0.13172555, 0.4805336 , 0.24669278],\n",
              "        [0.09672773, 0.01099586, 0.9694662 ],\n",
              "        [0.23255026, 0.53642833, 0.5906867 ]],\n",
              "\n",
              "       [[0.26992714, 0.8822849 , 0.7979497 ],\n",
              "        [0.97995794, 0.24992943, 0.77133214],\n",
              "        [0.40023518, 0.5356723 , 0.43761015],\n",
              "        ...,\n",
              "        [0.61533225, 0.28583753, 0.88712966],\n",
              "        [0.46766496, 0.5764512 , 0.16902709],\n",
              "        [0.20934677, 0.9149114 , 0.19230914]],\n",
              "\n",
              "       [[0.08309829, 0.6715164 , 0.9635891 ],\n",
              "        [0.7287549 , 0.29208255, 0.47744846],\n",
              "        [0.5321442 , 0.25563455, 0.6339303 ],\n",
              "        ...,\n",
              "        [0.65883505, 0.7088567 , 0.01910651],\n",
              "        [0.5372131 , 0.6439476 , 0.3119744 ],\n",
              "        [0.15961087, 0.917405  , 0.19270456]]], dtype=float32)>"
            ]
          },
          "metadata": {},
          "execution_count": 70
        }
      ]
    },
    {
      "cell_type": "code",
      "source": [
        "tf.reduce_min(Ran_tens), tf.reduce_max(Ran_tens)"
      ],
      "metadata": {
        "colab": {
          "base_uri": "https://localhost:8080/"
        },
        "id": "vjyU2INNIMaI",
        "outputId": "02603816-3f95-4835-b7cd-08e2ebf7533d"
      },
      "execution_count": 104,
      "outputs": [
        {
          "output_type": "execute_result",
          "data": {
            "text/plain": [
              "(<tf.Tensor: shape=(), dtype=float32, numpy=1.2755393981933594e-05>,\n",
              " <tf.Tensor: shape=(), dtype=float32, numpy=0.9999991655349731>)"
            ]
          },
          "metadata": {},
          "execution_count": 104
        }
      ]
    },
    {
      "cell_type": "code",
      "source": [
        "Ran_tens = tf.random.uniform(shape= [1,224,224,3])\n",
        "tf.squeeze(Ran_tens)\n",
        "#In this Dimension 1  got removed"
      ],
      "metadata": {
        "colab": {
          "base_uri": "https://localhost:8080/"
        },
        "id": "GLo62tyPI5zn",
        "outputId": "731bdb29-6305-41c5-bbd3-bf52f5029434"
      },
      "execution_count": 110,
      "outputs": [
        {
          "output_type": "execute_result",
          "data": {
            "text/plain": [
              "<tf.Tensor: shape=(224, 224, 3), dtype=float32, numpy=\n",
              "array([[[0.285887  , 0.08787119, 0.6453334 ],\n",
              "        [0.8955898 , 0.7570729 , 0.58016324],\n",
              "        [0.9644264 , 0.48660862, 0.9455806 ],\n",
              "        ...,\n",
              "        [0.99465334, 0.8191378 , 0.9530878 ],\n",
              "        [0.48987246, 0.30111432, 0.00761986],\n",
              "        [0.57174146, 0.5919055 , 0.10571599]],\n",
              "\n",
              "       [[0.6504817 , 0.72584283, 0.8400301 ],\n",
              "        [0.7251663 , 0.7587054 , 0.9193344 ],\n",
              "        [0.4079007 , 0.30509174, 0.3091396 ],\n",
              "        ...,\n",
              "        [0.32371688, 0.68990684, 0.9623804 ],\n",
              "        [0.06476891, 0.06393254, 0.54948103],\n",
              "        [0.31844997, 0.56796265, 0.7623161 ]],\n",
              "\n",
              "       [[0.6833267 , 0.09872675, 0.7868285 ],\n",
              "        [0.5579289 , 0.47953534, 0.6741018 ],\n",
              "        [0.79443204, 0.38795376, 0.6427573 ],\n",
              "        ...,\n",
              "        [0.2321291 , 0.3571688 , 0.77326727],\n",
              "        [0.8635273 , 0.48500502, 0.31759298],\n",
              "        [0.2444495 , 0.603606  , 0.04616308]],\n",
              "\n",
              "       ...,\n",
              "\n",
              "       [[0.85185146, 0.7676054 , 0.42209566],\n",
              "        [0.48219776, 0.6849681 , 0.14996219],\n",
              "        [0.3289758 , 0.79554844, 0.09484172],\n",
              "        ...,\n",
              "        [0.2769357 , 0.9515765 , 0.30294776],\n",
              "        [0.42123568, 0.9316033 , 0.19581723],\n",
              "        [0.21447003, 0.46818364, 0.7021283 ]],\n",
              "\n",
              "       [[0.24661267, 0.3371786 , 0.5543071 ],\n",
              "        [0.14727354, 0.18511629, 0.73300457],\n",
              "        [0.5813873 , 0.53056645, 0.4061693 ],\n",
              "        ...,\n",
              "        [0.2938819 , 0.7273077 , 0.1519916 ],\n",
              "        [0.5937141 , 0.9312172 , 0.94012976],\n",
              "        [0.28024805, 0.4389329 , 0.5055735 ]],\n",
              "\n",
              "       [[0.79966486, 0.42261982, 0.61191154],\n",
              "        [0.9630312 , 0.05458164, 0.31199467],\n",
              "        [0.8003795 , 0.23418713, 0.15545619],\n",
              "        ...,\n",
              "        [0.20081377, 0.8432354 , 0.437881  ],\n",
              "        [0.953871  , 0.798035  , 0.3063903 ],\n",
              "        [0.47599268, 0.7647464 , 0.3165207 ]]], dtype=float32)>"
            ]
          },
          "metadata": {},
          "execution_count": 110
        }
      ]
    },
    {
      "cell_type": "code",
      "source": [
        "tensor = tf.constant([0,1,2,3,4,5900,6,7,8,78],dtype = tf.int32)\n",
        "tf.reduce_max(tensor)\n",
        "tf.argmax(tensor)"
      ],
      "metadata": {
        "colab": {
          "base_uri": "https://localhost:8080/"
        },
        "id": "YGqwHJTrKc2O",
        "outputId": "be11478a-ad51-4bc2-ea1f-c92d9d5382fd"
      },
      "execution_count": 8,
      "outputs": [
        {
          "output_type": "execute_result",
          "data": {
            "text/plain": [
              "<tf.Tensor: shape=(), dtype=int64, numpy=5>"
            ]
          },
          "metadata": {},
          "execution_count": 8
        }
      ]
    },
    {
      "cell_type": "code",
      "source": [
        "tensor = tf.constant([0,1,2,3,4,5900,6,7,8,78],dtype = tf.int32)\n",
        "tf.one_hot(tensor,depth = 16)"
      ],
      "metadata": {
        "colab": {
          "base_uri": "https://localhost:8080/"
        },
        "id": "0oqPryfa221y",
        "outputId": "a28a2f6c-1ade-4e1a-dcbb-9ae30756a2e6"
      },
      "execution_count": 11,
      "outputs": [
        {
          "output_type": "execute_result",
          "data": {
            "text/plain": [
              "<tf.Tensor: shape=(10, 16), dtype=float32, numpy=\n",
              "array([[1., 0., 0., 0., 0., 0., 0., 0., 0., 0., 0., 0., 0., 0., 0., 0.],\n",
              "       [0., 1., 0., 0., 0., 0., 0., 0., 0., 0., 0., 0., 0., 0., 0., 0.],\n",
              "       [0., 0., 1., 0., 0., 0., 0., 0., 0., 0., 0., 0., 0., 0., 0., 0.],\n",
              "       [0., 0., 0., 1., 0., 0., 0., 0., 0., 0., 0., 0., 0., 0., 0., 0.],\n",
              "       [0., 0., 0., 0., 1., 0., 0., 0., 0., 0., 0., 0., 0., 0., 0., 0.],\n",
              "       [0., 0., 0., 0., 0., 0., 0., 0., 0., 0., 0., 0., 0., 0., 0., 0.],\n",
              "       [0., 0., 0., 0., 0., 0., 1., 0., 0., 0., 0., 0., 0., 0., 0., 0.],\n",
              "       [0., 0., 0., 0., 0., 0., 0., 1., 0., 0., 0., 0., 0., 0., 0., 0.],\n",
              "       [0., 0., 0., 0., 0., 0., 0., 0., 1., 0., 0., 0., 0., 0., 0., 0.],\n",
              "       [0., 0., 0., 0., 0., 0., 0., 0., 0., 0., 0., 0., 0., 0., 0., 0.]],\n",
              "      dtype=float32)>"
            ]
          },
          "metadata": {},
          "execution_count": 11
        }
      ]
    },
    {
      "cell_type": "code",
      "source": [
        "import tensorflow as tf\n",
        "\n",
        "# Original tensor\n",
        "my_tensor = tf.constant([3, 15, 2, 8, 6, 9, 12, 7, 1, 5], dtype=tf.int32)\n",
        "\n",
        "# One-hot encode it\n",
        "one_hot_encoded = tf.one_hot(my_tensor, depth=16)\n",
        "\n",
        "# Print the result\n",
        "print(\"One-hot encoded tensor:\\n\", one_hot_encoded.numpy())\n"
      ],
      "metadata": {
        "colab": {
          "base_uri": "https://localhost:8080/"
        },
        "id": "oQScw_9a4Btr",
        "outputId": "8304f9af-9f4a-448b-f77a-0ff0e7033d90"
      },
      "execution_count": 12,
      "outputs": [
        {
          "output_type": "stream",
          "name": "stdout",
          "text": [
            "One-hot encoded tensor:\n",
            " [[0. 0. 0. 1. 0. 0. 0. 0. 0. 0. 0. 0. 0. 0. 0. 0.]\n",
            " [0. 0. 0. 0. 0. 0. 0. 0. 0. 0. 0. 0. 0. 0. 0. 1.]\n",
            " [0. 0. 1. 0. 0. 0. 0. 0. 0. 0. 0. 0. 0. 0. 0. 0.]\n",
            " [0. 0. 0. 0. 0. 0. 0. 0. 1. 0. 0. 0. 0. 0. 0. 0.]\n",
            " [0. 0. 0. 0. 0. 0. 1. 0. 0. 0. 0. 0. 0. 0. 0. 0.]\n",
            " [0. 0. 0. 0. 0. 0. 0. 0. 0. 1. 0. 0. 0. 0. 0. 0.]\n",
            " [0. 0. 0. 0. 0. 0. 0. 0. 0. 0. 0. 0. 1. 0. 0. 0.]\n",
            " [0. 0. 0. 0. 0. 0. 0. 1. 0. 0. 0. 0. 0. 0. 0. 0.]\n",
            " [0. 1. 0. 0. 0. 0. 0. 0. 0. 0. 0. 0. 0. 0. 0. 0.]\n",
            " [0. 0. 0. 0. 0. 1. 0. 0. 0. 0. 0. 0. 0. 0. 0. 0.]]\n"
          ]
        }
      ]
    },
    {
      "cell_type": "code",
      "source": [],
      "metadata": {
        "id": "JWdKWA9K4GZ_"
      },
      "execution_count": null,
      "outputs": []
    }
  ]
}